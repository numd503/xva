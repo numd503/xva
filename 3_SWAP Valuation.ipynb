{
 "cells": [
  {
   "cell_type": "code",
   "execution_count": 34,
   "id": "d6fd4870",
   "metadata": {},
   "outputs": [],
   "source": [
    "import pickle\n",
    "import gc\n",
    "import datetime\n",
    "from math import floor, ceil\n",
    "from time import perf_counter\n",
    "\n",
    "import numpy as np  \n",
    "import pandas as pd\n",
    "\n",
    "from matplotlib import pyplot as plt\n",
    "import seaborn as sns;   sns.set_style(\"whitegrid\")\n",
    "\n",
    "import importlib\n",
    "import CVA_Module ; importlib.reload(CVA_Module)\n",
    "\n",
    "from numba import njit\n",
    "from tqdm.notebook import trange, tqdm_notebook ; tqdm_notebook.pandas()"
   ]
  },
  {
   "cell_type": "code",
   "execution_count": 35,
   "id": "d2aa5d72",
   "metadata": {},
   "outputs": [],
   "source": [
    "# Set general font size and Chart Dimentions\n",
    "plt.rcParams[\"figure.autolayout\"] = True \n",
    "plt.rcParams['font.size']       = '18'\n",
    "CHART_DIMENTIONS_SINGLE_CHART   = (20,7) \n",
    "CHART_DIMENTIONS_DOUBLE_CHART   = (20,11) \n",
    "SAVE_CHARTS                     = False "
   ]
  },
  {
   "cell_type": "code",
   "execution_count": 36,
   "id": "75fdf6ee",
   "metadata": {},
   "outputs": [],
   "source": [
    "CVA = CVA_Module.CVA(CHART_DIMENTIONS_SINGLE_CHART=CHART_DIMENTIONS_SINGLE_CHART) # initialize CVA Object to be used"
   ]
  },
  {
   "cell_type": "markdown",
   "id": "46075bc8",
   "metadata": {},
   "source": [
    "## LOAD RATES DATA"
   ]
  },
  {
   "cell_type": "code",
   "execution_count": 37,
   "id": "4a05fa4f",
   "metadata": {},
   "outputs": [],
   "source": [
    "swaps_set = pd.read_excel('data/swap_valuation/contracts.xlsx', index_col=0)\n",
    "scenarios = pd.read_excel('data/rates/scenarios_description.xlsx', index_col=0)"
   ]
  },
  {
   "cell_type": "code",
   "execution_count": 38,
   "id": "44d880f3",
   "metadata": {},
   "outputs": [],
   "source": [
    "df_SOFR3m_last = pd.read_excel('data/rates/Scenario 1/interpolated_forward_rates_5_Scenario 1.xlsx', index_col=0)"
   ]
  },
  {
   "cell_type": "code",
   "execution_count": null,
   "id": "063b9953",
   "metadata": {},
   "outputs": [],
   "source": []
  },
  {
   "cell_type": "markdown",
   "id": "cc2812ff",
   "metadata": {},
   "source": [
    "## LOAD SWAP CHARACTERISTICS"
   ]
  },
  {
   "cell_type": "code",
   "execution_count": 39,
   "id": "17feab38",
   "metadata": {},
   "outputs": [],
   "source": [
    "def get_swap_value(CVA, Notional:int, Floating_rate: list, \n",
    "                   RFR_discounted_for_float_list:list, RFR_discounted_for_fixed_list: list,\n",
    "                  Fixed_rate:float, T:int, V_for_Float_Leg, df_SOFR3m_last, freq=0.25, dt=1/52):\n",
    "\n",
    "    \"\"\" Step (5.2) : Re evaluate the swap for the given paths \"\"\"\n",
    "    IRS_value_list = []\n",
    "    dt      = 1/52\n",
    "    t_array = np.arange(start=0, stop=T+dt, step=dt)\n",
    "\n",
    "    for i in tqdm_notebook(range(len(rfr_float_P_t_T_list))):   \n",
    "        npv_floating, npv_fixed, sum_npv_floating, sum_npv_fix, IRS_value = CVA.interest_rate_swap_valuation_vectorised(\n",
    "            Notional = Notional,\n",
    "            Floating_rate = Floating_rate[i],            # <- vector\n",
    "            Floating_rate_cashflows_frequency = freq, \n",
    "            RFR_discounted_for_float_list = RFR_discounted_for_float_list[i],  # <- vector\n",
    "            RFR_discounted_for_fixed_list = RFR_discounted_for_fixed_list[i],  # <- vector\n",
    "            Fixed_rate = Fixed_rate,\n",
    "            Fixed_rate_cashflows_frequency = freq,\n",
    "            V_for_Float_Leg=V_for_Float_Leg\n",
    "            )    \n",
    "        IRS_value_list.append(IRS_value * np.exp(-df_SOFR3m_last.iloc[i, 0] * i*dt)) # Продисконтировано до даты оценки\n",
    "        #IRS_value_list.append(IRS_value) # На форвардную дату\n",
    "    \n",
    "    print(len(IRS_value_list))\n",
    "    \n",
    "    IRS_values_df = pd.DataFrame(IRS_value_list, index=t_array)\n",
    "    \n",
    "    return IRS_values_df"
   ]
  },
  {
   "cell_type": "code",
   "execution_count": 40,
   "id": "0550c301",
   "metadata": {},
   "outputs": [
    {
     "name": "stdout",
     "output_type": "stream",
     "text": [
      "Swap rate of SWAP_1 = 0.04259437856198282\n"
     ]
    },
    {
     "data": {
      "application/vnd.jupyter.widget-view+json": {
       "model_id": "54370e5733da4b9b955a9d3812ee8e56",
       "version_major": 2,
       "version_minor": 0
      },
      "text/plain": [
       "  0%|          | 0/261 [00:00<?, ?it/s]"
      ]
     },
     "metadata": {},
     "output_type": "display_data"
    },
    {
     "name": "stdout",
     "output_type": "stream",
     "text": [
      "261\n",
      "Swap rate of SWAP_2 = 0.04259437856198282\n"
     ]
    },
    {
     "data": {
      "application/vnd.jupyter.widget-view+json": {
       "model_id": "69d385cff8854cbb8552a4f92aa061a4",
       "version_major": 2,
       "version_minor": 0
      },
      "text/plain": [
       "  0%|          | 0/261 [00:00<?, ?it/s]"
      ]
     },
     "metadata": {},
     "output_type": "display_data"
    },
    {
     "name": "stdout",
     "output_type": "stream",
     "text": [
      "261\n",
      "Swap rate of SWAP_3 = 0.04479496695091921\n"
     ]
    },
    {
     "data": {
      "application/vnd.jupyter.widget-view+json": {
       "model_id": "1405ab63361e47a190e534ff482d0a6e",
       "version_major": 2,
       "version_minor": 0
      },
      "text/plain": [
       "  0%|          | 0/157 [00:00<?, ?it/s]"
      ]
     },
     "metadata": {},
     "output_type": "display_data"
    },
    {
     "name": "stdout",
     "output_type": "stream",
     "text": [
      "157\n",
      "Swap rate of SWAP_1 = 0.04259437856198282\n"
     ]
    },
    {
     "data": {
      "application/vnd.jupyter.widget-view+json": {
       "model_id": "a0358d09959f48a38e95484f6adef9ad",
       "version_major": 2,
       "version_minor": 0
      },
      "text/plain": [
       "  0%|          | 0/261 [00:00<?, ?it/s]"
      ]
     },
     "metadata": {},
     "output_type": "display_data"
    },
    {
     "name": "stdout",
     "output_type": "stream",
     "text": [
      "261\n",
      "Swap rate of SWAP_2 = 0.04259437856198282\n"
     ]
    },
    {
     "data": {
      "application/vnd.jupyter.widget-view+json": {
       "model_id": "5c7fb94c2d9146819627ebaa5f99b2fe",
       "version_major": 2,
       "version_minor": 0
      },
      "text/plain": [
       "  0%|          | 0/261 [00:00<?, ?it/s]"
      ]
     },
     "metadata": {},
     "output_type": "display_data"
    },
    {
     "name": "stdout",
     "output_type": "stream",
     "text": [
      "261\n",
      "Swap rate of SWAP_3 = 0.04479496695091921\n"
     ]
    },
    {
     "data": {
      "application/vnd.jupyter.widget-view+json": {
       "model_id": "69ca1555e5a042d291d8ddfb14e6a61f",
       "version_major": 2,
       "version_minor": 0
      },
      "text/plain": [
       "  0%|          | 0/157 [00:00<?, ?it/s]"
      ]
     },
     "metadata": {},
     "output_type": "display_data"
    },
    {
     "name": "stdout",
     "output_type": "stream",
     "text": [
      "157\n"
     ]
    }
   ],
   "source": [
    "swap_values_dict_all = {}\n",
    "for scen in scenarios.columns:\n",
    "    swap_values_dict = {}\n",
    "    for swap_n in swaps_set.columns:\n",
    "        # Discount Factor For fixed rate leg - rfr_fixed_P_t_T_list\n",
    "        with open(f'data/rates/{scen}/DF_fixed_leg_{int(swaps_set.loc[\"T\", swap_n])}_{scen}.pickle', 'rb') as f:\n",
    "            rfr_fixed_P_t_T_list = pickle.load(f)\n",
    "\n",
    "        # Discount Factors for floating rate leg - rfr_float_P_t_T_list\n",
    "        with open(f'data/rates/{scen}/DF_float_leg_{int(swaps_set.loc[\"T\", swap_n])}_{scen}.pickle', 'rb') as f:\n",
    "            rfr_float_P_t_T_list = pickle.load(f)\n",
    "\n",
    "        # Forward Rate Curve for all future dates - forward_rate_curves_list\n",
    "        with open(f'data/rates/{scen}/ForwardRateCurvesProjection_{int(swaps_set.loc[\"T\", swap_n])}_{scen}.pickle', 'rb') as f:\n",
    "            forward_rate_curves_list = pickle.load(f)         \n",
    "            \n",
    "        # ATM Swap Rate\n",
    "        with open(f'data/rates/{scen}/swap_rate_inputs_{int(swaps_set.loc[\"T\", swap_n])}_{scen}.pickle', 'rb') as f:\n",
    "            atm_swap_rate = pickle.load(f)    \n",
    "\n",
    "        print(f\"Swap rate of {swap_n} = {atm_swap_rate['swap_rate_atm']}\")\n",
    "        # Value Swap\n",
    "        swap_values = get_swap_value(CVA, Notional=swaps_set.loc['notional', swap_n],\n",
    "                                     Floating_rate=forward_rate_curves_list,\n",
    "                                     RFR_discounted_for_float_list=rfr_float_P_t_T_list,\n",
    "                                     RFR_discounted_for_fixed_list=rfr_fixed_P_t_T_list,\n",
    "                                     Fixed_rate=swaps_set.loc['Fixed_rate', swap_n],\n",
    "                                     T=swaps_set.loc['T', swap_n],\n",
    "                                     V_for_Float_Leg=swaps_set.loc['v_for_fixed_leg', swap_n],\n",
    "                                     df_SOFR3m_last=df_SOFR3m_last)\n",
    "\n",
    "\n",
    "        swap_values_dict[swap_n] = swap_values\n",
    "    \n",
    "    swap_values_dict_all[scen] = swap_values_dict"
   ]
  },
  {
   "cell_type": "code",
   "execution_count": null,
   "id": "c3e550b3",
   "metadata": {},
   "outputs": [],
   "source": []
  },
  {
   "cell_type": "code",
   "execution_count": 41,
   "id": "f0b52e84",
   "metadata": {},
   "outputs": [],
   "source": [
    "def max_size_of_frame(swap_values_dict, return_index=True):\n",
    "    maximum = 0\n",
    "    for i in swap_values_dict.keys():\n",
    "        if len(swap_values_dict[i]) > maximum:\n",
    "            maximum = len(swap_values_dict[i])\n",
    "            swap_name = i\n",
    "    if return_index:\n",
    "        return swap_values_dict[swap_name].index\n",
    "    else:\n",
    "        return swap_name"
   ]
  },
  {
   "cell_type": "code",
   "execution_count": 42,
   "id": "cf1604bd",
   "metadata": {},
   "outputs": [],
   "source": [
    "for scen in scenarios.columns:\n",
    "    max_sized_frame = pd.DataFrame(index=max_size_of_frame(swap_values_dict_all[scen]))    \n",
    "    for swap_n in swaps_set.columns:\n",
    "        \n",
    "        swap_values_dict_all[scen][swap_n] = max_sized_frame.merge(swap_values_dict_all[scen][swap_n],\n",
    "                                                                   how='left',\n",
    "                                                                   left_index=True,\n",
    "                                                                   right_index=True).fillna(0)"
   ]
  },
  {
   "cell_type": "markdown",
   "id": "6e195a0a",
   "metadata": {},
   "source": [
    "### Calculate Netting Sets"
   ]
  },
  {
   "cell_type": "code",
   "execution_count": 43,
   "id": "08aab77e",
   "metadata": {},
   "outputs": [],
   "source": [
    "for scen in scenarios.columns:\n",
    "    # Netting Set 1 + 2\n",
    "    swap_values_dict_all[scen]['NS_1'] = swap_values_dict_all[scen]['SWAP_1'] #+ swap_values_dict_all[scen]['SWAP_2']\n",
    "    \n",
    "    # Netting Set 1 + 3\n",
    "    swap_values_dict_all[scen]['NS_2'] = swap_values_dict_all[scen]['SWAP_1'] + swap_values_dict_all[scen]['SWAP_2']\n",
    "    \n",
    "    # Netting Set 1 + 2 + 3\n",
    "    swap_values_dict_all[scen]['NS_3'] = (swap_values_dict_all[scen]['SWAP_1'] + swap_values_dict_all[scen]['SWAP_3'])\n",
    "#                                           + \n",
    "#                                           swap_values_dict_all[scen]['SWAP_2'] + \n",
    "#                                           swap_values_dict_all[scen]['SWAP_3'])"
   ]
  },
  {
   "cell_type": "code",
   "execution_count": 44,
   "id": "1b9f9d9f",
   "metadata": {},
   "outputs": [],
   "source": [
    "# Calculated SWAP Values for given Contracts Conditions\n",
    "with open(f'data/swap_valuation/swap_values_dict.pickle', 'wb') as f:\n",
    "    pickle.dump(swap_values_dict_all, f)"
   ]
  },
  {
   "cell_type": "code",
   "execution_count": null,
   "id": "8d2f36f7",
   "metadata": {},
   "outputs": [],
   "source": []
  }
 ],
 "metadata": {
  "kernelspec": {
   "display_name": "vent",
   "language": "python",
   "name": "vent"
  },
  "language_info": {
   "codemirror_mode": {
    "name": "ipython",
    "version": 3
   },
   "file_extension": ".py",
   "mimetype": "text/x-python",
   "name": "python",
   "nbconvert_exporter": "python",
   "pygments_lexer": "ipython3",
   "version": "3.10.1"
  }
 },
 "nbformat": 4,
 "nbformat_minor": 5
}
